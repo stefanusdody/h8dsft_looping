{
 "cells": [
  {
   "cell_type": "code",
   "execution_count": 1,
   "id": "ace556d9",
   "metadata": {},
   "outputs": [],
   "source": [
    "# membuat list\n",
    "numbers = [951, 402, 984, 651, 360, 69, 408, 319, 601, 485, 980, 507, 725, 547, 544, 615, 83, 165, 141, 501, 263, 617, 865, 575, 219, 390, 984, 592, 236, 105, 942, 941, 386, 462, 47, 418, 907, 344, 236, 375, 823, 566, 597, 978, 328, 615, 953, 345, 399, 162, 758, 219, 918, 237, 412, 566, 826, 248, 866, 950, 626, 949]"
   ]
  },
  {
   "cell_type": "code",
   "execution_count": 2,
   "id": "25f2d6ba",
   "metadata": {},
   "outputs": [],
   "source": [
    "# mengurutkan list yang telah dibuat dari nilai yang terkecil\n",
    "numbers.sort()"
   ]
  },
  {
   "cell_type": "code",
   "execution_count": 3,
   "id": "13dda56b",
   "metadata": {},
   "outputs": [
    {
     "name": "stdout",
     "output_type": "stream",
     "text": [
      "162 236 236 248 328 344 360 386 390 402 408 412 418 462 544 566 566 592 626 758 826 866 918 Done.\n"
     ]
    }
   ],
   "source": [
    "# Looping list\n",
    "for value in numbers:\n",
    "    # Cek conditional angka genap dalam list\n",
    "    if value%2 == 0: \n",
    "        print(value, end=\" \")\n",
    "        if value == 918: # lakukan break pada angka 918\n",
    "            break\n",
    "            print(value)\n",
    "print('Done.')      "
   ]
  },
  {
   "cell_type": "code",
   "execution_count": 4,
   "id": "dcfc4236",
   "metadata": {},
   "outputs": [
    {
     "name": "stdout",
     "output_type": "stream",
     "text": [
      "162 236 236 248 328 344 360 386 390 402 408 412 418 462 544 566 566 592 626 758 826 866 918 Done.\n"
     ]
    }
   ],
   "source": [
    "# Looping list dengan logical conditions\n",
    "for value in numbers:\n",
    "    # Cek conditional angka genap dalam list\n",
    "    if value%2 == 0 and value <= 918: \n",
    "        print(value, end=\" \")\n",
    "print('Done.')   "
   ]
  },
  {
   "cell_type": "code",
   "execution_count": 5,
   "id": "8e66f67a",
   "metadata": {},
   "outputs": [
    {
     "name": "stdout",
     "output_type": "stream",
     "text": [
      "162 236 236 248 328 344 360 386 390 402 408 412 418 462 544 566 566 592 626 758 826 866 918 Done.\n"
     ]
    }
   ],
   "source": [
    "# looping dengan function\n",
    "def looping_numbers(numbers):\n",
    "    for value in numbers:\n",
    "        if value%2 == 0 and value <= 918:\n",
    "            print(value, end=\" \")\n",
    "    print('Done.') \n",
    "    \n",
    "# memanggil looping_numbers function\n",
    "looping_numbers(numbers)"
   ]
  },
  {
   "cell_type": "code",
   "execution_count": 6,
   "id": "da8f97f6",
   "metadata": {},
   "outputs": [],
   "source": [
    "# looping with lambda function\n",
    "angka_genap = list(filter(lambda value : value%2 == 0  and value <= 918, numbers))\n",
    "angka_ganjil = list(filter(lambda value : value%2 != 0  and value <= 918, numbers))"
   ]
  },
  {
   "cell_type": "code",
   "execution_count": 7,
   "id": "d0ca8be9",
   "metadata": {},
   "outputs": [
    {
     "data": {
      "text/plain": [
       "[162,\n",
       " 236,\n",
       " 236,\n",
       " 248,\n",
       " 328,\n",
       " 344,\n",
       " 360,\n",
       " 386,\n",
       " 390,\n",
       " 402,\n",
       " 408,\n",
       " 412,\n",
       " 418,\n",
       " 462,\n",
       " 544,\n",
       " 566,\n",
       " 566,\n",
       " 592,\n",
       " 626,\n",
       " 758,\n",
       " 826,\n",
       " 866,\n",
       " 918]"
      ]
     },
     "execution_count": 7,
     "metadata": {},
     "output_type": "execute_result"
    }
   ],
   "source": [
    "# memanggil angka_genap\n",
    "angka_genap"
   ]
  },
  {
   "cell_type": "code",
   "execution_count": 8,
   "id": "c57dcf2a",
   "metadata": {},
   "outputs": [
    {
     "data": {
      "text/plain": [
       "[47,\n",
       " 69,\n",
       " 83,\n",
       " 105,\n",
       " 141,\n",
       " 165,\n",
       " 219,\n",
       " 219,\n",
       " 237,\n",
       " 263,\n",
       " 319,\n",
       " 345,\n",
       " 375,\n",
       " 399,\n",
       " 485,\n",
       " 501,\n",
       " 507,\n",
       " 547,\n",
       " 575,\n",
       " 597,\n",
       " 601,\n",
       " 615,\n",
       " 615,\n",
       " 617,\n",
       " 651,\n",
       " 725,\n",
       " 823,\n",
       " 865,\n",
       " 907]"
      ]
     },
     "execution_count": 8,
     "metadata": {},
     "output_type": "execute_result"
    }
   ],
   "source": [
    "# memanggil angka_ganjil\n",
    "angka_ganjil"
   ]
  }
 ],
 "metadata": {
  "kernelspec": {
   "display_name": "Python 3",
   "language": "python",
   "name": "python3"
  },
  "language_info": {
   "codemirror_mode": {
    "name": "ipython",
    "version": 3
   },
   "file_extension": ".py",
   "mimetype": "text/x-python",
   "name": "python",
   "nbconvert_exporter": "python",
   "pygments_lexer": "ipython3",
   "version": "3.8.5"
  }
 },
 "nbformat": 4,
 "nbformat_minor": 5
}
