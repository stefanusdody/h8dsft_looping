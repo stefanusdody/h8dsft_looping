{
 "cells": [
  {
   "cell_type": "code",
   "execution_count": 2,
   "id": "ace556d9",
   "metadata": {},
   "outputs": [],
   "source": [
    "# membuat list\n",
    "numbers = [951, 402, 984, 651, 360, 69, 408, 319, 601, 485, 980, 507, 725, 547, 544, 615, 83, 165, 141, 501, 263, 617, 865, 575, 219, 390, 984, 592, 236, 105, 942, 941, 386, 462, 47, 418, 907, 344, 236, 375, 823, 566, 597, 978, 328, 615, 953, 345, 399, 162, 758, 219, 918, 237, 412, 566, 826, 248, 866, 950, 626, 949]"
   ]
  },
  {
   "cell_type": "code",
   "execution_count": 3,
   "id": "25f2d6ba",
   "metadata": {},
   "outputs": [],
   "source": [
    "# mengurutkan list yang telah dibuat dari nilai yang terkecil\n",
    "numbers.sort()"
   ]
  },
  {
   "cell_type": "code",
   "execution_count": 5,
   "id": "279af052",
   "metadata": {},
   "outputs": [
    {
     "name": "stdout",
     "output_type": "stream",
     "text": [
      "162\n",
      "236\n",
      "236\n",
      "248\n",
      "328\n",
      "344\n",
      "360\n",
      "386\n",
      "390\n",
      "402\n",
      "408\n",
      "412\n",
      "418\n",
      "462\n",
      "544\n",
      "566\n",
      "566\n",
      "592\n",
      "626\n",
      "758\n",
      "826\n",
      "866\n",
      "918\n",
      "Done\n"
     ]
    }
   ],
   "source": [
    "# Looping list\n",
    "for value in numbers:\n",
    "    # Cek Conditional\n",
    "    if value%2 == 0 and value <= 918: # Cek value dengan bilangan genap dan tidak lebih dari 918\n",
    "        print(value)\n",
    "        \n",
    "# menampilkan 'done' pada looping terakhir\n",
    "print('Done')"
   ]
  },
  {
   "cell_type": "code",
   "execution_count": null,
   "id": "13dda56b",
   "metadata": {},
   "outputs": [],
   "source": [
    "while numbers 0:\n",
    "    n -= 1\n",
    "    print(n)"
   ]
  }
 ],
 "metadata": {
  "kernelspec": {
   "display_name": "Python 3",
   "language": "python",
   "name": "python3"
  },
  "language_info": {
   "codemirror_mode": {
    "name": "ipython",
    "version": 3
   },
   "file_extension": ".py",
   "mimetype": "text/x-python",
   "name": "python",
   "nbconvert_exporter": "python",
   "pygments_lexer": "ipython3",
   "version": "3.8.5"
  }
 },
 "nbformat": 4,
 "nbformat_minor": 5
}
